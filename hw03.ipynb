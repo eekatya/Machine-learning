{
  "nbformat": 4,
  "nbformat_minor": 0,
  "metadata": {
    "kernelspec": {
      "display_name": "Python 3",
      "language": "python",
      "name": "python3"
    },
    "language_info": {
      "codemirror_mode": {
        "name": "ipython",
        "version": 3
      },
      "file_extension": ".py",
      "mimetype": "text/x-python",
      "name": "python",
      "nbconvert_exporter": "python",
      "pygments_lexer": "ipython3",
      "version": "3.7.3"
    },
    "colab": {
      "name": "hw03_task.ipynb",
      "provenance": [],
      "collapsed_sections": []
    }
  },
  "cells": [
    {
      "cell_type": "markdown",
      "metadata": {
        "id": "mpFMtBxSyQ-G"
      },
      "source": [
        "# Линейная регрессия\n",
        "__Суммарное количество баллов: 10__\n",
        "\n",
        "__Решение отправлять на `ml.course.practice@gmail.com`__\n",
        "\n",
        "__Тема письма: `[ITMO][ML][MS][HW03] <ФИ>`, где вместо `<ФИ>` указаны фамилия и имя__"
      ]
    },
    {
      "cell_type": "code",
      "metadata": {
        "id": "-gSYBLfNyQ-H"
      },
      "source": [
        "from sklearn.datasets import make_blobs, make_moons\n",
        "from sklearn.model_selection import train_test_split\n",
        "import numpy as np\n",
        "import random\n",
        "import matplotlib.pyplot as plt\n",
        "import matplotlib\n",
        "import copy"
      ],
      "execution_count": 155,
      "outputs": []
    },
    {
      "cell_type": "code",
      "metadata": {
        "id": "WOfwfSfvyQ-K"
      },
      "source": [
        "def read_data(path=\"boston.csv\"):\n",
        "    dataframe = np.genfromtxt(path, delimiter=\",\", skip_header=15)\n",
        "    X = dataframe[:, :-1]\n",
        "    y = dataframe[:, -1]\n",
        "    return X, y"
      ],
      "execution_count": 156,
      "outputs": []
    },
    {
      "cell_type": "code",
      "metadata": {
        "id": "XzGA75_NyQ-N"
      },
      "source": [
        "def generate_synthetic(size:int, dim=6, noise=0.1):\n",
        "    X = np.random.randn(size, dim)\n",
        "    w = np.random.randn(dim + 1)\n",
        "    noise = noise * np.random.randn(size)\n",
        "    y = X.dot(w[1:]) + w[0] + noise\n",
        "    return X, y"
      ],
      "execution_count": 157,
      "outputs": []
    },
    {
      "cell_type": "markdown",
      "metadata": {
        "id": "QKn8drviyQ-P"
      },
      "source": [
        "### Задание 1 (1 балл)\n",
        "Для начала нужно понять, какую метрику для ошибки будем использовать. В нашем случае нам подойдет стандартная метрика MSE. Ее и нужно реализовать."
      ]
    },
    {
      "cell_type": "code",
      "metadata": {
        "id": "kRWYNjY4yQ-P"
      },
      "source": [
        "def mse(y_true:np.ndarray, y_predicted:np.ndarray):\n",
        "    return np.mean((y_true - y_predicted)**2)"
      ],
      "execution_count": 158,
      "outputs": []
    },
    {
      "cell_type": "markdown",
      "metadata": {
        "id": "V_brTK02yQ-R"
      },
      "source": [
        "### Задание 2 (3 балла)\n",
        "Теперь реализуем линейную регрессию при помощи явного решения задачи минимизации. \n",
        "\n",
        "#### Методы\n",
        "`fit(X, y)` - решает задачу минимизации $\\arg\\min_{w, b}\\sum ((w\\cdot x + b) - y)^2$. \n",
        "\n",
        "`predict(X)` - строит предсказание `y` для объектов из `X`."
      ]
    },
    {
      "cell_type": "code",
      "metadata": {
        "id": "R_-C-qRvyQ-S"
      },
      "source": [
        "class NormalLR:\n",
        "    def __init__(self):\n",
        "        self.w=None\n",
        "    \n",
        "    def fit(self, X:np.ndarray, y:np.ndarray):\n",
        "        self.w=np.dot(np.dot(np.linalg.inv(np.dot(X.T, X)), X.T), y)\n",
        "    \n",
        "    def predict(self, X:np.ndarray) -> np.ndarray:\n",
        "        return np.dot(X, self.w)"
      ],
      "execution_count": 159,
      "outputs": []
    },
    {
      "cell_type": "code",
      "metadata": {
        "id": "XZ6dGcesyQ-V"
      },
      "source": [
        "X, y = generate_synthetic(1024)\n",
        "X_train, X_test, y_train, y_test = train_test_split(X, y, train_size=0.8)\n",
        "means, stds = X.mean(axis=0), X.std(axis=0)\n",
        "X = (X - means) / stds\n",
        "N = X.shape[0]\n",
        "ones_column = np.ones((N, 1))\n",
        "X = np.hstack((X, ones_column))"
      ],
      "execution_count": 160,
      "outputs": []
    },
    {
      "cell_type": "code",
      "metadata": {
        "id": "30My60Q-yQ-X",
        "outputId": "a7ff53cc-85b1-4e38-a74b-76eaa2b1ffe5",
        "colab": {
          "base_uri": "https://localhost:8080/",
          "height": 34
        }
      },
      "source": [
        "regr = NormalLR()\n",
        "regr.fit(X_train, y_train)\n",
        "print(mse(y_test, regr.predict(X_test)))"
      ],
      "execution_count": 161,
      "outputs": [
        {
          "output_type": "stream",
          "text": [
            "0.012704982905363605\n"
          ],
          "name": "stdout"
        }
      ]
    },
    {
      "cell_type": "markdown",
      "metadata": {
        "id": "ePv3dw2oyQ-Z"
      },
      "source": [
        "### Задание 3 (2 балла)\n",
        "Теперь реализуем линейную регрессию с использованием градиентного спуска с larning rate `alpha` в течении `iterations` итераций. В задании необходимо использовать регуляризацию Лассо с коэффициентом `l`.\n",
        "\n",
        "#### Методы\n",
        "`fit(X, y)` - приближает решение задачи минимизации $\\arg\\min_{w, b}\\sum ((w\\cdot x + b) - y)^2$ при помощи градиентного спуска. \n",
        "\n",
        "\n",
        "`predict(X)` - строит предсказание `y` для объектов из `X`."
      ]
    },
    {
      "cell_type": "code",
      "metadata": {
        "id": "_lGy79KryQ-a"
      },
      "source": [
        "class GradientLR:\n",
        "    def __init__(self, alpha:float, iterations=10000, l=0.):\n",
        "        self.alpha = alpha\n",
        "        self.iterations = iterations\n",
        "        self.l = l    \n",
        "    def fit(self, X:np.ndarray, y:np.ndarray):\n",
        "        self.w = np.zeros(X.shape[1])\n",
        "        for k in range(self.iterations):\n",
        "          for i, x in enumerate(X):\n",
        "            gradient_form = np.dot(x, self.w)\n",
        "            self.w = self.w - self.alpha * (2 * (gradient_form - y[i]) * x/len(X)  + self.l * (np.sign(self.w)))      \n",
        "    def predict(self, X:np.ndarray):\n",
        "        return np.dot(X, self.w)"
      ],
      "execution_count": 162,
      "outputs": []
    },
    {
      "cell_type": "code",
      "metadata": {
        "id": "6MTk76Z9yQ-c"
      },
      "source": [
        "def build_plot(X_train:np.ndarray, y_train:np.ndarray, X_test:np.ndarray, y_test:np.ndarray, task):\n",
        "    if (task == \"task4\"):\n",
        "      pow = [0.0, 0.05, 0.1, 0.2, 0.3]\n",
        "    else:\n",
        "      pow = [0.0, 0.1, 0.3, 1]\n",
        "    err = []\n",
        "    for p in pow:\n",
        "      regr = GradientLR(0.1, 300, p)\n",
        "      regr.fit(X_train, y_train)\n",
        "      err.append(mse(y_test, regr.predict(X_test)))\n",
        "    plt.plot(pow, err, 'ro')\n",
        "    plt.show()"
      ],
      "execution_count": 163,
      "outputs": []
    },
    {
      "cell_type": "code",
      "metadata": {
        "id": "LwcD8FR5yQ-d"
      },
      "source": [
        "X, y = generate_synthetic(1024)\n",
        "X_train, X_test, y_train, y_test = train_test_split(X, y, train_size=0.8)\n",
        "means, stds = X.mean(axis=0), X.std(axis=0)\n",
        "X = (X - means) / stds\n",
        "N = X.shape[0]\n",
        "ones_column = np.ones((N, 1))\n",
        "X = np.hstack((X, ones_column))"
      ],
      "execution_count": 164,
      "outputs": []
    },
    {
      "cell_type": "code",
      "metadata": {
        "id": "Ib9PioaUyQ-f",
        "outputId": "9813c06e-6724-4c76-a2c0-ac4c2b06307a",
        "colab": {
          "base_uri": "https://localhost:8080/",
          "height": 286
        }
      },
      "source": [
        "\n",
        "regr = GradientLR(0.1, iterations=500, l = 0.001)\n",
        "regr.fit(X_train, y_train)\n",
        "print(mse(y_test, regr.predict(X_test)))\n",
        "build_plot(X_train, y_train, X_test, y_test, \"task3\")"
      ],
      "execution_count": 165,
      "outputs": [
        {
          "output_type": "stream",
          "text": [
            "2.2172894030148522\n"
          ],
          "name": "stdout"
        },
        {
          "output_type": "display_data",
          "data": {
            "image/png": "[encoded data removed]",
            "text/plain": [
              "<Figure size 432x288 with 1 Axes>"
            ]
          },
          "metadata": {
            "tags": [],
            "needs_background": "light"
          }
        }
      ]
    },
    {
      "cell_type": "markdown",
      "metadata": {
        "id": "sSg12ly9yQ-h"
      },
      "source": [
        "### Задание 4 (2 балла)\n",
        "Протесируйте оба метода на данных `boston.csv`, для градиентного спуска постройте график зависимости ошибки от коэффициента регуляризации. "
      ]
    },
    {
      "cell_type": "code",
      "metadata": {
        "id": "ULW945F2yQ-i"
      },
      "source": [
        "X, y = read_data()\n",
        "X_train, X_test, y_train, y_test = train_test_split(X, y, train_size=0.8, shuffle=False)\n",
        "X_train /= np.max(X_train, axis=0)\n",
        "X_test /= (np.max(X_test, axis=0) + 1e-6)"
      ],
      "execution_count": 166,
      "outputs": []
    },
    {
      "cell_type": "code",
      "metadata": {
        "id": "m2MPF6lfyQ-k",
        "outputId": "c035ea06-fb7e-4ba1-d95c-5fa509e1b11e",
        "colab": {
          "base_uri": "https://localhost:8080/",
          "height": 34
        }
      },
      "source": [
        "regr = NormalLR()\n",
        "regr.fit(X_train, y_train)\n",
        "print(mse(y_test, regr.predict(X_test)))"
      ],
      "execution_count": 167,
      "outputs": [
        {
          "output_type": "stream",
          "text": [
            "49023135.22274176\n"
          ],
          "name": "stdout"
        }
      ]
    },
    {
      "cell_type": "code",
      "metadata": {
        "id": "_WroqtMYyQ-m",
        "outputId": "5b3fcc5e-52a9-4301-ad62-da53a6a6c8ff",
        "colab": {
          "base_uri": "https://localhost:8080/",
          "height": 294
        }
      },
      "source": [
        "regr = GradientLR(0.1, iterations=500, l=0.17)\n",
        "regr.fit(X_train, y_train)\n",
        "print(mse(y_test, regr.predict(X_test)))\n",
        "build_plot(X_train, y_train, X_test, y_test, \"task4\")"
      ],
      "execution_count": 168,
      "outputs": [
        {
          "output_type": "stream",
          "text": [
            "30370931.51828758\n"
          ],
          "name": "stdout"
        },
        {
          "output_type": "display_data",
          "data": {
            "image/png": "[encoded data removed]",
            "text/plain": [
              "<Figure size 432x288 with 1 Axes>"
            ]
          },
          "metadata": {
            "tags": [],
            "needs_background": "light"
          }
        }
      ]
    },
    {
      "cell_type": "markdown",
      "metadata": {
        "id": "1z1Ng10eyQ-o"
      },
      "source": [
        "### Задание 5 (2 балла)\n",
        "Проинтерпритируйте полученные результаты. Опишите влияние каждого признака на результат предсказания."
      ]
    },
    {
      "cell_type": "code",
      "metadata": {
        "id": "X9yDIbkxyQ-o"
      },
      "source": [
        "\"\"\"\n",
        "mse получилось довольно большое, следовательно, линейная модель плохо предсказывает цену на недвижимость. \n",
        "После добавления регуляризации mse становится пониже. \n",
        "Чтобы определить влияние feature на стоимость недвижимости, необходимо посмотреть на знак перед весом,\n",
        "а также на абсолютную величину веса. Знак перед весом говорит о том, насколько feature отрицательно или положительно\n",
        "влияет на стоимость недвижимости. Чем больше абсолютное значение величины, тем больший вклад она вносит в\n",
        "ценообразование недвижимости.\n",
        "Посмотрим на веса, обращая внимание на величину и на знак.\n",
        "Цены растут по мере линейного увеличения стоимости rm. \n",
        "Цены имеют тенденцию к снижению с ростом lstat.\n",
        "Эти признаки больше всего влияют на стоимость недвижимости.\n",
        "Другие дают меньший вклад.\n",
        "\"\"\""
      ],
      "execution_count": null,
      "outputs": []
    }
  ]
}